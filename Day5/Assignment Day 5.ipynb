{
 "cells": [
  {
   "cell_type": "markdown",
   "metadata": {},
   "source": [
    "# Assignment Day 5 | 14th December 2020"
   ]
  },
  {
   "cell_type": "markdown",
   "metadata": {},
   "source": [
    "### Question 1\n",
    "\n",
    "##### Do the project - Develop a cryptography app in python and Upload it in Github"
   ]
  },
  {
   "cell_type": "code",
   "execution_count": 1,
   "metadata": {},
   "outputs": [
    {
     "name": "stdout",
     "output_type": "stream",
     "text": [
      "Enter the message to Encrypt ->  Hello Letsupgrade !\n",
      "Encrypted Message :-  gAAAAABf3ZmG2P62uoqrgdr5X03_eX21NibklC95wLsPlRplbvZeeIU1Tk14KWR2KVHqqWEmmw6hCOGf4bUQC0I3HHw8-0h7YET-YmuSOTb_wf_lv7Gskyc=\n",
      "Decrypted Message :-  Hello Letsupgrade !\n"
     ]
    }
   ],
   "source": [
    "from cryptography.fernet import Fernet\n",
    "\n",
    "def generateKey():\n",
    "    key = Fernet.generate_key()\n",
    "    #print(key)\n",
    "    #print(type(key))\n",
    "    file = open('test1.txt', 'wb')\n",
    "    file.write(key)\n",
    "    file.close()\n",
    "\n",
    "def getKey():\n",
    "    file = open('test1.txt', 'rb')\n",
    "    return file.read()\n",
    "\n",
    "def encryptMessage(msg,key):\n",
    "    k = Fernet(key)\n",
    "    encryptedMsg = k.encrypt(msg.encode('utf-8'))\n",
    "    return encryptedMsg\n",
    "\n",
    "def decryptMessage(msgSecret,key):\n",
    "    k = Fernet(key)\n",
    "    decryptedMsg = k.decrypt(msgSecret)\n",
    "    return decryptedMsg\n",
    "\n",
    "\n",
    "message = input(\"Enter the message to Encrypt ->  \")\n",
    "generateKey()\n",
    "secKey = getKey()\n",
    "en_msg = encryptMessage(message,secKey)\n",
    "print('Encrypted Message :-  ' + str(en_msg.decode('utf-8')))\n",
    "de_msg = decryptMessage(en_msg,secKey)\n",
    "print('Decrypted Message :-  ' +str(de_msg.decode('utf-8')))"
   ]
  }
 ],
 "metadata": {
  "kernelspec": {
   "display_name": "Python 3",
   "language": "python",
   "name": "python3"
  },
  "language_info": {
   "codemirror_mode": {
    "name": "ipython",
    "version": 3
   },
   "file_extension": ".py",
   "mimetype": "text/x-python",
   "name": "python",
   "nbconvert_exporter": "python",
   "pygments_lexer": "ipython3",
   "version": "3.8.3"
  }
 },
 "nbformat": 4,
 "nbformat_minor": 4
}
