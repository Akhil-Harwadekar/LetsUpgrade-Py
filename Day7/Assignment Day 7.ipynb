{
 "cells": [
  {
   "cell_type": "markdown",
   "metadata": {},
   "source": [
    "# Assignment Day 7 | 16th December 2020"
   ]
  },
  {
   "cell_type": "markdown",
   "metadata": {},
   "source": [
    "### Question 1\n",
    "\n",
    "##### Do the project as taught by sir - Create a YouTube video downloader and upload it in Github."
   ]
  },
  {
   "cell_type": "code",
   "execution_count": null,
   "metadata": {},
   "outputs": [],
   "source": [
    "from pytube import YouTube\n",
    "from tkinter import *\n",
    "\n",
    "root = Tk()\n",
    "root.geometry('300x400')\n",
    "root.title('Youtube Downloader')\n",
    "\n",
    "def youtube():\n",
    "    a=var.get()\n",
    "    yt=YouTube(a).streams.filter(progressive=True,file_extension='mp4').order_by('resolution').desc().first()\n",
    "    yt.download('C:\\\\LetsUpgrade\\\\Python Essentials\\\\Day7')\n",
    "    \n",
    "l1=Label(text='Paste the link in the below box',fg='red')\n",
    "l1.place(x=20,y=20)\n",
    "\n",
    "var=StringVar()\n",
    "e1=Entry(root,textvariable=var,width=50)\n",
    "e1.place(x=40,y=80,width=230)\n",
    "\n",
    "b1=Button(root,text='Download',command=youtube,bg='green',fg='white',width=20)\n",
    "b1.place(x=80,y=120)\n"
   ]
  }
 ],
 "metadata": {
  "kernelspec": {
   "display_name": "Python 3",
   "language": "python",
   "name": "python3"
  },
  "language_info": {
   "codemirror_mode": {
    "name": "ipython",
    "version": 3
   },
   "file_extension": ".py",
   "mimetype": "text/x-python",
   "name": "python",
   "nbconvert_exporter": "python",
   "pygments_lexer": "ipython3",
   "version": "3.8.3"
  }
 },
 "nbformat": 4,
 "nbformat_minor": 4
}
