{
 "cells": [
  {
   "cell_type": "markdown",
   "metadata": {},
   "source": [
    "# Assignment Day 6 | 15th December 2020"
   ]
  },
  {
   "cell_type": "markdown",
   "metadata": {},
   "source": [
    "### Question 1\n",
    "\n",
    "##### Do the project - Email sending using python and upload it in Github"
   ]
  },
  {
   "cell_type": "code",
   "execution_count": 1,
   "metadata": {},
   "outputs": [
    {
     "data": {
      "text/plain": [
       "250"
      ]
     },
     "execution_count": 1,
     "metadata": {},
     "output_type": "execute_result"
    }
   ],
   "source": [
    "import emails\n",
    "\n",
    "message=emails.html(html='<p>Hey user,<br/> this is Akhil</p>',\n",
    "                   subject='Python generated Message. Don\\'t worry',\n",
    "                   mail_from=('Akhil','hihello@gmail.com'))\n",
    "\n",
    "mail = message.send(to='abc@gmail.com',\n",
    "                   smtp={\n",
    "                       'host':'smtp.gmail.com',\n",
    "                       'timeout' : 5,\n",
    "                       'port':587,\n",
    "                       'user':'akh123@gmail.com',\n",
    "                       'password':'1234567890',\n",
    "                       'tls':True\n",
    "                   })\n",
    "\n",
    "mail.status_code"
   ]
  }
 ],
 "metadata": {
  "kernelspec": {
   "display_name": "Python 3",
   "language": "python",
   "name": "python3"
  },
  "language_info": {
   "codemirror_mode": {
    "name": "ipython",
    "version": 3
   },
   "file_extension": ".py",
   "mimetype": "text/x-python",
   "name": "python",
   "nbconvert_exporter": "python",
   "pygments_lexer": "ipython3",
   "version": "3.8.3"
  }
 },
 "nbformat": 4,
 "nbformat_minor": 4
}
