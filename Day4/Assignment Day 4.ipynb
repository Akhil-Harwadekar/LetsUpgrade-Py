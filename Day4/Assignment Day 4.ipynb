{
 "cells": [
  {
   "cell_type": "markdown",
   "metadata": {},
   "source": [
    "# Assignment Day 4 | 12th December 2020"
   ]
  },
  {
   "cell_type": "markdown",
   "metadata": {},
   "source": [
    "### Question 1\n",
    "\n",
    "##### Write down a program in Python for Opening a File and Writing \" I Love LetsUpgrade\" And close it, and read it back again, and then append some data to it and close it."
   ]
  },
  {
   "cell_type": "code",
   "execution_count": 1,
   "metadata": {},
   "outputs": [
    {
     "name": "stdout",
     "output_type": "stream",
     "text": [
      "I Love LetsUpgrade.\n"
     ]
    }
   ],
   "source": [
    "file1 = open('test1.txt','w')\n",
    "file1.write(\"I Love LetsUpgrade.\")\n",
    "file1.close()\n",
    "\n",
    "file1=open('test1.txt','r')\n",
    "f=file1.read()\n",
    "print(f)\n",
    "file1.close()"
   ]
  },
  {
   "cell_type": "code",
   "execution_count": 2,
   "metadata": {},
   "outputs": [
    {
     "name": "stdout",
     "output_type": "stream",
     "text": [
      "I Love LetsUpgrade.\n",
      "Proud to be LetsUpgrade student\n"
     ]
    }
   ],
   "source": [
    "file1 = open('test1.txt','a')\n",
    "file1.write(\"\\nProud to be LetsUpgrade student\")\n",
    "file1.close()\n",
    "\n",
    "file1=open('test1.txt','r')\n",
    "f=file1.read()\n",
    "print(f)\n",
    "file1.close()"
   ]
  },
  {
   "cell_type": "markdown",
   "metadata": {},
   "source": [
    "### Question 2\n",
    "\n",
    "##### Write a function which can return a Factorial of any numbers as INT, given in the argument."
   ]
  },
  {
   "cell_type": "code",
   "execution_count": 3,
   "metadata": {},
   "outputs": [
    {
     "name": "stdout",
     "output_type": "stream",
     "text": [
      "6\n",
      "720\n"
     ]
    }
   ],
   "source": [
    "def fact(n):\n",
    "    factorial=1\n",
    "    if n==0 and n==1:\n",
    "        return 1\n",
    "    else:\n",
    "        for i in range(1, (n + 1)):\n",
    "            factorial = factorial*i\n",
    "        return factorial\n",
    "    \n",
    "ans=fact(int(input()))\n",
    "print(ans)"
   ]
  }
 ],
 "metadata": {
  "kernelspec": {
   "display_name": "Python 3",
   "language": "python",
   "name": "python3"
  },
  "language_info": {
   "codemirror_mode": {
    "name": "ipython",
    "version": 3
   },
   "file_extension": ".py",
   "mimetype": "text/x-python",
   "name": "python",
   "nbconvert_exporter": "python",
   "pygments_lexer": "ipython3",
   "version": "3.8.3"
  }
 },
 "nbformat": 4,
 "nbformat_minor": 4
}
